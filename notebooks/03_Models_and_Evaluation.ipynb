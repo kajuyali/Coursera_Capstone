{
 "cells": [
  {
   "cell_type": "markdown",
   "metadata": {},
   "source": [
    "____________\n",
    "# Traffic Collision Data\n",
    "## From the City of Seattle \n",
    "------------\n",
    "# <b>MACHINE LEARNING PREDICTIVE MODELS</b>\n",
    "------------"
   ]
  },
  {
   "cell_type": "code",
   "execution_count": 624,
   "metadata": {
    "jupyter": {
     "source_hidden": true
    }
   },
   "outputs": [
    {
     "name": "stdout",
     "output_type": "stream",
     "text": [
      "Dataset Imported!\n",
      " Index(['SEVERITYCODE', 'X', 'Y', 'ADDRTYPE', 'LOCATION', 'SEVERITYDESC',\n",
      "       'COLLISIONTYPE', 'PERSONCOUNT', 'PEDCOUNT', 'PEDCYLCOUNT', 'VEHCOUNT',\n",
      "       'INCDATE', 'INCDTTM', 'JUNCTIONTYPE', 'SDOT_COLCODE', 'SDOT_COLDESC',\n",
      "       'WEATHER', 'ROADCOND', 'LIGHTCOND', 'SPEEDING', 'ST_COLCODE',\n",
      "       'ST_COLDESC', 'COLLISIONVEH', 'DATE', 'DATE_YR', 'DATE_MO', 'TIME',\n",
      "       'TIMESTR', 'TIME_HR', 'WEATHER_V', 'ROADCOND_V', 'LIGHTCOND_V',\n",
      "       'COLLISIONVEH_V'],\n",
      "      dtype='object')\n",
      "-------------------------------\n",
      "0    113985\n",
      "1     55554\n",
      "Name: SEVERITYCODE1, dtype: int64\n",
      "Property Damage Only Collision    113985\n",
      "Injury Collision                   55554\n",
      "Name: SEVERITYDESC, dtype: int64\n",
      "-------------------------------\n",
      "\n",
      "-------------------------------\n",
      "0.0    108763\n",
      "3.0     32512\n",
      "2.0     26890\n",
      "4.0       823\n",
      "1.0       551\n",
      "Name: WEATHER_V, dtype: int64\n",
      "Clear             108763\n",
      "Raining            32512\n",
      "Overcast           26890\n",
      "Snowing              823\n",
      "Fog/Smog/Smoke       551\n",
      "Name: WEATHER, dtype: int64\n",
      "-------------------------------\n",
      "\n",
      "-------------------------------\n",
      "0.0    121437\n",
      "3.0     46243\n",
      "1.0      1056\n",
      "2.0       803\n",
      "Name: ROADCOND_V, dtype: int64\n",
      "Dry           121437\n",
      "Wet            46243\n",
      "Ice             1056\n",
      "Snow/Slush       803\n",
      "Name: ROADCOND, dtype: int64\n",
      "-------------------------------\n",
      "\n",
      "-------------------------------\n",
      "4.0    112408\n",
      "2.0     46593\n",
      "5.0      5637\n",
      "3.0      2396\n",
      "0.0      1394\n",
      "1.0      1111\n",
      "Name: LIGHTCOND_V, dtype: int64\n",
      "Daylight                    112408\n",
      "Dark - Street Lights On      46593\n",
      "Dusk                          5637\n",
      "Dawn                          2396\n",
      "Dark - No Street Lights       1394\n",
      "Dark - Street Lights Off      1111\n",
      "Name: LIGHTCOND, dtype: int64\n",
      "-------------------------------\n",
      "\n"
     ]
    },
    {
     "data": {
      "text/plain": [
       "SEVERITYCODE        int64\n",
       "X                 float64\n",
       "Y                 float64\n",
       "ADDRTYPE           object\n",
       "LOCATION           object\n",
       "SEVERITYDESC       object\n",
       "COLLISIONTYPE      object\n",
       "PERSONCOUNT         int64\n",
       "PEDCOUNT            int64\n",
       "PEDCYLCOUNT         int64\n",
       "VEHCOUNT            int64\n",
       "INCDATE            object\n",
       "INCDTTM            object\n",
       "JUNCTIONTYPE       object\n",
       "SDOT_COLCODE        int64\n",
       "SDOT_COLDESC       object\n",
       "WEATHER            object\n",
       "ROADCOND           object\n",
       "LIGHTCOND          object\n",
       "SPEEDING           object\n",
       "ST_COLCODE         object\n",
       "ST_COLDESC         object\n",
       "COLLISIONVEH       object\n",
       "DATE               object\n",
       "DATE_YR             int64\n",
       "DATE_MO             int64\n",
       "TIME               object\n",
       "TIMESTR            object\n",
       "TIME_HR            object\n",
       "WEATHER_V         float32\n",
       "ROADCOND_V        float32\n",
       "LIGHTCOND_V       float32\n",
       "COLLISIONVEH_V      int64\n",
       "SEVERITYCODE1       int64\n",
       "dtype: object"
      ]
     },
     "execution_count": 624,
     "metadata": {},
     "output_type": "execute_result"
    }
   ],
   "source": [
    "# Pandas Library & csv reading dataset\n",
    "import pandas as pd\n",
    "\n",
    "filename = 'Data-Collisions_Cleanv2.csv'\n",
    "df = pd.read_csv(filename,low_memory=False)\n",
    "print('Dataset Imported!\\n',df.columns)\n",
    "\n",
    "# Removal of Non-Used Values for the Classifiers\n",
    "df = df[(df.WEATHER != 'Unknown') & (df.WEATHER != 'Other')]\n",
    "df = df[(df.ROADCOND != 'Unknown') & (df.ROADCOND != 'Other')]\n",
    "df = df[(df.LIGHTCOND != 'Unknown') & (df.LIGHTCOND != 'Other')]\n",
    "df.reset_index(drop=True, inplace=True)\n",
    "\n",
    "df['SEVERITYCODE1'] = df['SEVERITYCODE']\n",
    "df['SEVERITYCODE1'].replace(to_replace=[1, 2],\n",
    "                        value=[0,1],inplace=True)\n",
    "\n",
    "df['WEATHER_V'] = df['WEATHER']\n",
    "df['WEATHER_V'].replace(to_replace=['Clear', 'Fog/Smog/Smoke', 'Overcast', 'Raining', 'Snowing'],\n",
    "                        value=[0,1,2,3,4],inplace=True)\n",
    "df['WEATHER_V'] = pd.to_numeric(df['WEATHER_V'], downcast='float')\n",
    "\n",
    "df['ROADCOND_V'] = df['ROADCOND']\n",
    "df['ROADCOND_V'].replace(to_replace=['Dry', 'Ice', 'Snow/Slush', 'Wet'],\n",
    "                         value=[0,1,2,3],inplace=True)\n",
    "df['ROADCOND_V'] = pd.to_numeric(df['ROADCOND_V'], downcast='float')\n",
    "\n",
    "df['LIGHTCOND_V'] = df['LIGHTCOND']\n",
    "df['LIGHTCOND_V'].replace(to_replace=['Dark - No Street Lights', 'Dark - Street Lights Off', 'Dark - Street Lights On', 'Dawn', 'Daylight', 'Dusk'], \n",
    "                          value=[0,1,2,3,4,5],inplace=True)\n",
    "df['LIGHTCOND_V'] = pd.to_numeric(df['LIGHTCOND_V'], downcast='float')\n",
    "df_copy = df.copy()\n",
    "\n",
    "print('-------------------------------')\n",
    "print(df['SEVERITYCODE1'].value_counts())\n",
    "print(df['SEVERITYDESC'].value_counts())\n",
    "print('-------------------------------\\n')\n",
    "\n",
    "print('-------------------------------')\n",
    "print(df['WEATHER_V'].value_counts())\n",
    "print(df['WEATHER'].value_counts())\n",
    "print('-------------------------------\\n')\n",
    "\n",
    "print('-------------------------------')\n",
    "print(df['ROADCOND_V'].value_counts())\n",
    "print(df['ROADCOND'].value_counts())\n",
    "print('-------------------------------\\n')\n",
    "\n",
    "print('-------------------------------')\n",
    "print(df['LIGHTCOND_V'].value_counts())\n",
    "print(df['LIGHTCOND'].value_counts())\n",
    "print('-------------------------------\\n')\n",
    "df.dtypes"
   ]
  },
  {
   "cell_type": "code",
   "execution_count": 625,
   "metadata": {
    "jupyter": {
     "source_hidden": true
    }
   },
   "outputs": [],
   "source": [
    "import itertools\n",
    "import numpy as np\n",
    "import pylab as pl\n",
    "import scipy.optimize as opt\n",
    "import matplotlib.pyplot as plt\n",
    "from matplotlib.ticker import NullFormatter\n",
    "import matplotlib.ticker as ticker\n",
    "from sklearn import preprocessing\n",
    "from sklearn.model_selection import train_test_split\n",
    "from sklearn import metrics\n",
    "from sklearn.metrics import confusion_matrix\n",
    "from sklearn.metrics import log_loss\n",
    "from sklearn.metrics import jaccard_similarity_score\n",
    "from sklearn.metrics import f1_score\n",
    "\n",
    "%matplotlib inline"
   ]
  },
  {
   "cell_type": "markdown",
   "metadata": {},
   "source": [
    "## DATA PREPARATION, X_train, X_test, y_train, y_test"
   ]
  },
  {
   "cell_type": "code",
   "execution_count": 662,
   "metadata": {},
   "outputs": [
    {
     "name": "stdout",
     "output_type": "stream",
     "text": [
      "-------------------------------\n",
      "X:\n",
      " [[2. 3. 4.]\n",
      " [3. 3. 2.]\n",
      " [2. 0. 4.]\n",
      " [0. 0. 4.]\n",
      " [3. 3. 4.]]\n",
      "y:\n",
      " [1 0 0 0 1]\n",
      "-------------------------------\n",
      "\n",
      "X Scaled:\n",
      " [[ 0.8566364   1.6214671   0.5838857 ]\n",
      " [ 1.6462952   1.6214671  -1.4188942 ]\n",
      " [ 0.8566364  -0.62430453  0.5838857 ]\n",
      " [-0.72268146 -0.62430453  0.5838857 ]\n",
      " [ 1.6462952   1.6214671   0.5838857 ]]\n",
      "-------------------------------\n",
      "\n",
      "Train set Dimensions: (135631, 3) (135631,)\n",
      "Test set: Dimensions (33908, 3) (33908,)\n",
      "-------------------------------\n",
      "\n"
     ]
    }
   ],
   "source": [
    "X = df[['WEATHER_V', 'ROADCOND_V','LIGHTCOND_V']].values\n",
    "#X = df[['WEATHER_V', 'ROADCOND_V']].values\n",
    "#X = df[['WEATHER_V']].values\n",
    "y = df['SEVERITYCODE1'].values\n",
    "\n",
    "print('-------------------------------')\n",
    "print('X:\\n',X[0:5])\n",
    "print('y:\\n',y[0:5])\n",
    "\n",
    "X = preprocessing.StandardScaler().fit(X).transform(X)\n",
    "X_train, X_test, y_train, y_test = train_test_split( X, y, test_size=0.2, random_state=4)\n",
    "\n",
    "print('-------------------------------\\n')\n",
    "print('X Scaled:\\n',X[0:5])\n",
    "print('-------------------------------\\n')\n",
    "print ('Train set Dimensions:', X_train.shape,  y_train.shape)\n",
    "print ('Test set: Dimensions', X_test.shape,  y_test.shape)\n",
    "print('-------------------------------\\n')"
   ]
  },
  {
   "cell_type": "markdown",
   "metadata": {},
   "source": [
    "-------------\n",
    "# KNN CLASSIFIER\n",
    "-------------"
   ]
  },
  {
   "cell_type": "code",
   "execution_count": 640,
   "metadata": {},
   "outputs": [
    {
     "name": "stdout",
     "output_type": "stream",
     "text": [
      "-------------------------------\n",
      "\n",
      "Accuracy:\n",
      " [0.66863277 0.67208328 0.43730093 0.65031851 0.42916126 0.64217884\n",
      " 0.64211985 0.65031851 0.65025953 0.65031851 0.65025953 0.67270261\n",
      " 0.67264362 0.67270261]\n",
      "-------------------------------\n",
      "\n"
     ]
    }
   ],
   "source": [
    "from sklearn.neighbors import KNeighborsClassifier\n",
    "\n",
    "#K-Neighbors Testing\n",
    "Ks = 15\n",
    "mean_acc = np.zeros((Ks-1))\n",
    "std_acc = np.zeros((Ks-1))\n",
    "\n",
    "for n in range(1,Ks):\n",
    "    # Train Model and Predict  \n",
    "    neigh = KNeighborsClassifier(n_neighbors = n).fit(X_train,y_train)\n",
    "    yhat=neigh.predict(X_test)\n",
    "    mean_acc[n-1] = metrics.accuracy_score(y_test, yhat)\n",
    "    std_acc[n-1]=np.std(yhat==y_test)/np.sqrt(yhat.shape[0])\n",
    "print('-------------------------------\\n')\n",
    "print('Accuracy:\\n',mean_acc)\n",
    "print('-------------------------------\\n')"
   ]
  },
  {
   "cell_type": "code",
   "execution_count": 641,
   "metadata": {
    "jupyter": {
     "source_hidden": true
    }
   },
   "outputs": [
    {
     "data": {
      "image/png": "[encoded data removed]",
      "text/plain": [
       "<Figure size 432x288 with 1 Axes>"
      ]
     },
     "metadata": {
      "needs_background": "light"
     },
     "output_type": "display_data"
    },
    {
     "name": "stdout",
     "output_type": "stream",
     "text": [
      "-------------------------\n",
      "The best accuracy was with 0.6727026070543825 with k= 12\n"
     ]
    }
   ],
   "source": [
    "plt.plot(range(1,Ks),mean_acc,'g')\n",
    "plt.fill_between(range(1,Ks),mean_acc - 1 * std_acc,mean_acc + 1 * std_acc, alpha=0.10)\n",
    "plt.legend(('Accuracy ', '+/- 3xstd'))\n",
    "plt.ylabel('Accuracy ')\n",
    "plt.xlabel('Number of Neighbors (K)')\n",
    "plt.tight_layout()\n",
    "plt.show()\n",
    "print( \"-------------------------\\nThe best accuracy was with\", mean_acc.max(), \"with k=\", mean_acc.argmax()+1) "
   ]
  },
  {
   "cell_type": "code",
   "execution_count": 644,
   "metadata": {
    "jupyter": {
     "source_hidden": true
    }
   },
   "outputs": [
    {
     "name": "stdout",
     "output_type": "stream",
     "text": [
      "KNN Model:\n",
      " KNeighborsClassifier(algorithm='auto', leaf_size=30, metric='minkowski',\n",
      "                     metric_params=None, n_jobs=None, n_neighbors=6, p=2,\n",
      "                     weights='uniform')\n",
      "Train set Accuracy:  0.64\n",
      "Test set Accuracy:  0.64\n",
      "              precision    recall  f1-score   support\n",
      "\n",
      "           0       0.67      0.91      0.77     22810\n",
      "           1       0.32      0.08      0.13     11098\n",
      "\n",
      "    accuracy                           0.64     33908\n",
      "   macro avg       0.50      0.50      0.45     33908\n",
      "weighted avg       0.56      0.64      0.56     33908\n",
      "\n"
     ]
    }
   ],
   "source": [
    "# Using the best K\n",
    "k = 6\n",
    "neigh = KNeighborsClassifier(n_neighbors = k).fit(X_train,y_train)\n",
    "yhat_KNN = neigh.predict(X_test)\n",
    "\n",
    "print(\"KNN Model:\\n\", neigh)\n",
    "#print(\"yhat_KNN (Predicted Values):\", yhat_KNN[0:5])\n",
    "print(\"Train set Accuracy:  %.2f\" % metrics.accuracy_score(y_train, neigh.predict(X_train)))\n",
    "print(\"Test set Accuracy:  %.2f\" % metrics.accuracy_score(y_test, yhat_KNN))\n",
    "print (classification_report(y_test, yhat_KNN))"
   ]
  },
  {
   "cell_type": "markdown",
   "metadata": {},
   "source": [
    "---------\n",
    "# DECISION TREE CLASSIFIER\n",
    "---------"
   ]
  },
  {
   "cell_type": "code",
   "execution_count": 664,
   "metadata": {},
   "outputs": [
    {
     "name": "stdout",
     "output_type": "stream",
     "text": [
      "-------------------------------\n",
      "\n",
      "Decision Tree Model:\n",
      " DecisionTreeClassifier(ccp_alpha=0.0, class_weight=None, criterion='entropy',\n",
      "                       max_depth=4, max_features=None, max_leaf_nodes=None,\n",
      "                       min_impurity_decrease=0.0, min_impurity_split=None,\n",
      "                       min_samples_leaf=1, min_samples_split=2,\n",
      "                       min_weight_fraction_leaf=0.0, presort='deprecated',\n",
      "                       random_state=None, splitter='best')\n",
      "-------------------------------\n",
      "\n",
      "DecisionTrees's Accuracy: 0.67\n",
      "-------------------------------\n",
      "\n",
      "              precision    recall  f1-score   support\n",
      "\n",
      "           0       0.67      1.00      0.80     22810\n",
      "           1       0.00      0.00      0.00     11098\n",
      "\n",
      "    accuracy                           0.67     33908\n",
      "   macro avg       0.34      0.50      0.40     33908\n",
      "weighted avg       0.45      0.67      0.54     33908\n",
      "\n"
     ]
    }
   ],
   "source": [
    "from sklearn.tree import DecisionTreeClassifier\n",
    "\n",
    "sevTree = DecisionTreeClassifier(criterion=\"entropy\", max_depth = 4)\n",
    "sevTree # it shows the default parameters\n",
    "sevTree.fit(X_train,y_train)\n",
    "predTree = sevTree.predict(X_test)\n",
    "\n",
    "print('-------------------------------\\n')\n",
    "print ('Decision Tree Model:\\n', sevTree)\n",
    "print('-------------------------------\\n')\n",
    "print(\"DecisionTrees's Accuracy: %.2f\" % metrics.accuracy_score(y_test, predTree))\n",
    "print('-------------------------------\\n')\n",
    "print (classification_report(y_test, predTree))"
   ]
  },
  {
   "cell_type": "code",
   "execution_count": null,
   "metadata": {
    "jupyter": {
     "source_hidden": true
    }
   },
   "outputs": [],
   "source": [
    "# Categorical Variables Labeled into Values (Done above, Manually)\n",
    "#le_weather = preprocessing.LabelEncoder()\n",
    "#le_weather.fit([1,2,3,4,5,6,7])\n",
    "#X[:,0] = le_weather.transform(X[:,0]) \n",
    "\n",
    "#le_roadcond = preprocessing.LabelEncoder()\n",
    "#le_roadcond.fit([1,2,3,4,5,6])\n",
    "#X[:,1] = le_roadcond.transform(X[:,1])\n",
    "\n",
    "#le_lightcond = preprocessing.LabelEncoder()\n",
    "#le_lightcond.fit([1,2,3,4,5,6,7,8])\n",
    "#X[:,2] = le_lightcond.transform(X[:,2]) \n",
    "\n",
    "#X[0:5]\n"
   ]
  },
  {
   "cell_type": "code",
   "execution_count": null,
   "metadata": {
    "jupyter": {
     "source_hidden": true
    }
   },
   "outputs": [],
   "source": [
    "# Notice: You might need to uncomment and install the pydotplus and graphviz libraries if you have not installed these before\n",
    "!conda install -c conda-forge pydotplus -y\n",
    "!conda install -c conda-forge python-graphviz -y"
   ]
  },
  {
   "cell_type": "code",
   "execution_count": null,
   "metadata": {
    "jupyter": {
     "source_hidden": true
    }
   },
   "outputs": [],
   "source": [
    "from sklearn.externals.six import StringIO\n",
    "import pydotplus\n",
    "import matplotlib.image as mpimg\n",
    "from sklearn import tree\n",
    "%matplotlib inline \n",
    "\n",
    "my_data = df[['SEVERITYDESC', 'WEATHER', 'ROADCOND', 'LIGHTCOND']]\n",
    "dot_data = StringIO()\n",
    "filename = r'img/severity_tree.png'\n",
    "featureNames = my_data.columns[1:4]\n",
    "targetNames = my_data[\"SEVERITYDESC\"].unique().tolist()\n",
    "out = tree.export_graphviz(sevTree,feature_names=featureNames, \n",
    "        out_file=dot_data, class_names= np.unique(y_train), \n",
    "        filled=True,  special_characters=True,rotate=False)  \n",
    "graph = pydotplus.graph_from_dot_data(dot_data.getvalue())  \n",
    "graph.write_png(filename)\n",
    "img = mpimg.imread(filename)\n",
    "plt.figure(figsize=(200, 800))\n",
    "plt.imshow(img,interpolation='nearest')"
   ]
  },
  {
   "cell_type": "markdown",
   "metadata": {},
   "source": [
    "![title](img/severity_tree.png)"
   ]
  },
  {
   "cell_type": "markdown",
   "metadata": {},
   "source": [
    "-----------\n",
    "# LOGISTIC REGRESSION\n",
    "------------"
   ]
  },
  {
   "cell_type": "code",
   "execution_count": 666,
   "metadata": {},
   "outputs": [
    {
     "name": "stdout",
     "output_type": "stream",
     "text": [
      "-------------------------------\n",
      "Logistic Regression:\n",
      " LogisticRegression(C=0.01, class_weight=None, dual=False, fit_intercept=True,\n",
      "                   intercept_scaling=1, l1_ratio=None, max_iter=100,\n",
      "                   multi_class='auto', n_jobs=None, penalty='l2',\n",
      "                   random_state=None, solver='liblinear', tol=0.0001, verbose=0,\n",
      "                   warm_start=False)\n",
      "-------------------------------\n",
      "LR1 Accuracy: 0.67\n",
      "-------------------------------\n",
      "LR1 LogLoss: 0.63\n",
      "-------------------------------\n"
     ]
    }
   ],
   "source": [
    "from sklearn.linear_model import LogisticRegression\n",
    "\n",
    "LR1 = LogisticRegression(C=0.01, solver='liblinear').fit(X_train,y_train)\n",
    "yhat1_LR = LR1.predict(X_test)\n",
    "yhat_prob1 = LR1.predict_proba(X_test)\n",
    "\n",
    "# Different Solver and Regularization\n",
    "LR2 = LogisticRegression(C=0.01, solver='sag').fit(X_train,y_train)\n",
    "yhat2_LR = LR2.predict(X_test)\n",
    "yhat_prob2 = LR2.predict_proba(X_test)\n",
    "\n",
    "print('-------------------------------')\n",
    "print ('Logistic Regression:\\n', LR1)\n",
    "print('-------------------------------')\n",
    "#print ('y_hat (LR Predict):\\n', yhat1_LR[0:5], ' - ', yhat2_LR[0:5])\n",
    "#print('-------------------------------')\n",
    "#print(\"Prediction Probability (LR1):\\n \", yhat_prob1, '\\n-------------------------------\\n & LR2\\n ', yhat_prob2) \n",
    "#print('-------------------------------')\n",
    "\n",
    "#print('-------------------------------')\n",
    "print(\"LR1 Accuracy: %.2f\" % metrics.accuracy_score(y_test, yhat1_LR))\n",
    "#print(\"LR2 Accuracy: %.2f\" % metrics.accuracy_score(y_test, yhat2_LR))\n",
    "print('-------------------------------')\n",
    "\n",
    "#print('-------------------------------')\n",
    "print (\"LR1 LogLoss: %.2f\" % log_loss(y_test, yhat_prob1))\n",
    "#print (\"LR2 LogLoss: %.2f\" % log_loss(y_test, yhat_prob2))\n",
    "print('-------------------------------')\n"
   ]
  },
  {
   "cell_type": "markdown",
   "metadata": {},
   "source": [
    "# SVM, Support Vector Machine\n"
   ]
  },
  {
   "cell_type": "code",
   "execution_count": 660,
   "metadata": {},
   "outputs": [
    {
     "name": "stdout",
     "output_type": "stream",
     "text": [
      "-------------------------------\n",
      "\n",
      "Support Vector Machine Model:\n",
      " SVC(C=1.0, break_ties=False, cache_size=200, class_weight=None, coef0=0.0,\n",
      "    decision_function_shape='ovr', degree=3, gamma='scale', kernel='rbf',\n",
      "    max_iter=-1, probability=False, random_state=None, shrinking=True,\n",
      "    tol=0.001, verbose=False)\n",
      "-------------------------------\n",
      "\n",
      "SVM1 Accuracy: 0.67\n",
      "-------------------------------\n"
     ]
    }
   ],
   "source": [
    "from sklearn import svm\n",
    "\n",
    "sev1 = svm.SVC(kernel='rbf')\n",
    "sev1.fit(X_train, y_train) \n",
    "yhat1_SVM = sev1.predict(X_test)\n",
    "\n",
    "#MODEL WITH A LINEAR KERNEL\n",
    "sev2 = svm.SVC(kernel='linear')\n",
    "sev2.fit(X_train, y_train) \n",
    "yhat2_SVM = sev2.predict(X_test)\n",
    "\n",
    "print('-------------------------------\\n')\n",
    "print ('Support Vector Machine Model:\\n', sev1)\n",
    "print('-------------------------------\\n')\n",
    "#print ('y_hat (SVM1 & SVM2 Predict):\\n', yhat1_SVM[0:5], ' - ', yhat2_SVM[0:5])\n",
    "#print('-------------------------------\\n')\n",
    "\n",
    "#print('-------------------------------')\n",
    "print(\"SVM1 Accuracy: %.2f\" % metrics.accuracy_score(y_test, yhat1_SVM))\n",
    "#print(\"SVM2 Accuracy: %.2f\" % metrics.accuracy_score(y_test, yhat2_SVM))\n",
    "print('-------------------------------')\n",
    "\n"
   ]
  },
  {
   "cell_type": "markdown",
   "metadata": {},
   "source": [
    "------------\n",
    "# MODELS EVALUATION\n",
    "-------------"
   ]
  },
  {
   "cell_type": "code",
   "execution_count": 667,
   "metadata": {
    "jupyter": {
     "source_hidden": true
    }
   },
   "outputs": [
    {
     "name": "stdout",
     "output_type": "stream",
     "text": [
      "-------------------------------\n",
      "KNN Jaccard index: 0.64\n",
      "KNN F1-score: 0.56\n",
      "-------------------------------\n",
      "DT Jaccard index: 0.67\n",
      "DT F1-score: 0.54\n",
      "-------------------------------\n",
      "LR Jaccard index: 0.67\n",
      "LR F1-score: 0.54\n",
      "LR LogLoss: 0.63\n",
      "-------------------------------\n",
      "SVM Jaccard index: 0.33\n",
      "SVM F1-score: 0.16\n",
      "-------------------------------\n",
      "              precision    recall  f1-score   support\n",
      "\n",
      "           0       0.67      0.91      0.77     22810\n",
      "           1       0.32      0.08      0.13     11098\n",
      "\n",
      "    accuracy                           0.64     33908\n",
      "   macro avg       0.50      0.50      0.45     33908\n",
      "weighted avg       0.56      0.64      0.56     33908\n",
      "\n",
      "              precision    recall  f1-score   support\n",
      "\n",
      "           0       0.67      1.00      0.80     22810\n",
      "           1       0.00      0.00      0.00     11098\n",
      "\n",
      "    accuracy                           0.67     33908\n",
      "   macro avg       0.34      0.50      0.40     33908\n",
      "weighted avg       0.45      0.67      0.54     33908\n",
      "\n",
      "              precision    recall  f1-score   support\n",
      "\n",
      "           0       0.67      1.00      0.80     22810\n",
      "           1       0.00      0.00      0.00     11098\n",
      "\n",
      "    accuracy                           0.67     33908\n",
      "   macro avg       0.34      0.50      0.40     33908\n",
      "weighted avg       0.45      0.67      0.54     33908\n",
      "\n",
      "              precision    recall  f1-score   support\n",
      "\n",
      "           0       0.00      0.00      0.00     22810\n",
      "           1       0.33      1.00      0.49     11098\n",
      "\n",
      "    accuracy                           0.33     33908\n",
      "   macro avg       0.16      0.50      0.25     33908\n",
      "weighted avg       0.11      0.33      0.16     33908\n",
      "\n"
     ]
    },
    {
     "name": "stderr",
     "output_type": "stream",
     "text": [
      "/opt/anaconda3/lib/python3.7/site-packages/sklearn/metrics/_classification.py:664: FutureWarning: jaccard_similarity_score has been deprecated and replaced with jaccard_score. It will be removed in version 0.23. This implementation has surprising behavior for binary and multiclass classification tasks.\n",
      "  FutureWarning)\n",
      "/opt/anaconda3/lib/python3.7/site-packages/sklearn/metrics/_classification.py:664: FutureWarning: jaccard_similarity_score has been deprecated and replaced with jaccard_score. It will be removed in version 0.23. This implementation has surprising behavior for binary and multiclass classification tasks.\n",
      "  FutureWarning)\n",
      "/opt/anaconda3/lib/python3.7/site-packages/sklearn/metrics/_classification.py:1272: UndefinedMetricWarning: Precision and F-score are ill-defined and being set to 0.0 in labels with no predicted samples. Use `zero_division` parameter to control this behavior.\n",
      "  _warn_prf(average, modifier, msg_start, len(result))\n"
     ]
    }
   ],
   "source": [
    "print('-------------------------------')\n",
    "print(\"KNN Jaccard index: %.2f\" % jaccard_similarity_score(y_test, yhat_KNN))\n",
    "print(\"KNN F1-score: %.2f\" % f1_score(y_test, yhat_KNN, average='weighted') )\n",
    "print('-------------------------------')\n",
    "\n",
    "print(\"DT Jaccard index: %.2f\" % jaccard_similarity_score(y_test, predTree))\n",
    "print(\"DT F1-score: %.2f\" % f1_score(y_test, predTree, average='weighted') )\n",
    "print('-------------------------------')\n",
    "\n",
    "print(\"LR Jaccard index: %.2f\" % jaccard_similarity_score(y_test, yhat1_LR))\n",
    "print(\"LR F1-score: %.2f\" % f1_score(y_test, yhat1_LR, average='weighted') )\n",
    "print(\"LR LogLoss: %.2f\" % log_loss(y_test, yhat_prob1))\n",
    "print('-------------------------------')\n",
    "\n",
    "print(\"SVM Jaccard index: %.2f\" % jaccard_similarity_score(y_test, yhat1_SVM))\n",
    "print(\"SVM F1-score: %.2f\" % f1_score(y_test, yhat1_SVM, average='weighted') )\n",
    "print('-------------------------------')\n",
    "\n",
    "\n",
    "print (classification_report(y_test, yhat_KNN))\n",
    "print (classification_report(y_test, predTree))\n",
    "print (classification_report(y_test, yhat1_LR))\n",
    "print (classification_report(y_test, yhat1_SVM))\n"
   ]
  },
  {
   "cell_type": "markdown",
   "metadata": {},
   "source": [
    "| Algorithm          | Jaccard | F1-score | LogLoss |\n",
    "|--------------------|---------|----------|---------|\n",
    "| KNN                | 0.64    | 0.56     | NA      |\n",
    "| Decision Tree      | 0.67    | 0.54     | NA      |\n",
    "| LogisticRegression | 0.67    | 0.54     | 0.63    |\n",
    "| SVM                | 0.33    | 0.16     | NA      |"
   ]
  },
  {
   "cell_type": "code",
   "execution_count": null,
   "metadata": {},
   "outputs": [],
   "source": []
  }
 ],
 "metadata": {
  "kernelspec": {
   "display_name": "Python 3",
   "language": "python",
   "name": "python3"
  },
  "language_info": {
   "codemirror_mode": {
    "name": "ipython",
    "version": 3
   },
   "file_extension": ".py",
   "mimetype": "text/x-python",
   "name": "python",
   "nbconvert_exporter": "python",
   "pygments_lexer": "ipython3",
   "version": "3.7.6"
  }
 },
 "nbformat": 4,
 "nbformat_minor": 4
}
